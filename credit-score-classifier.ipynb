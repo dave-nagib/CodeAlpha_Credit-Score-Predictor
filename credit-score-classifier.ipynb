{
 "cells": [
  {
   "cell_type": "markdown",
   "metadata": {},
   "source": [
    "### Importing Libraries"
   ]
  },
  {
   "cell_type": "code",
   "execution_count": 1,
   "metadata": {},
   "outputs": [],
   "source": [
    "import pandas as pd\n",
    "import numpy as np\n",
    "from sklearn.cluster import KMeans, SpectralClustering, DBSCAN\n",
    "from sklearn.preprocessing import OrdinalEncoder\n",
    "from sklearn.experimental import enable_iterative_imputer\n",
    "from sklearn.impute import IterativeImputer"
   ]
  },
  {
   "cell_type": "markdown",
   "metadata": {},
   "source": [
    "# Part 1: Data Exploration"
   ]
  },
  {
   "cell_type": "code",
   "execution_count": 2,
   "metadata": {},
   "outputs": [
    {
     "name": "stderr",
     "output_type": "stream",
     "text": [
      "C:\\Users\\LapCell\\AppData\\Local\\Temp\\ipykernel_25644\\129250805.py:1: DtypeWarning: Columns (26) have mixed types. Specify dtype option on import or set low_memory=False.\n",
      "  dataset = pd.read_csv('train.csv')\n"
     ]
    }
   ],
   "source": [
    "dataset = pd.read_csv('train.csv')"
   ]
  },
  {
   "cell_type": "code",
   "execution_count": 3,
   "metadata": {},
   "outputs": [
    {
     "name": "stdout",
     "output_type": "stream",
     "text": [
      "Data shape: (100000, 28)\n",
      "\n",
      "Data features: \n",
      "ID                           object\n",
      "Customer_ID                  object\n",
      "Month                        object\n",
      "Name                         object\n",
      "Age                          object\n",
      "SSN                          object\n",
      "Occupation                   object\n",
      "Annual_Income                object\n",
      "Monthly_Inhand_Salary       float64\n",
      "Num_Bank_Accounts             int64\n",
      "Num_Credit_Card               int64\n",
      "Interest_Rate                 int64\n",
      "Num_of_Loan                  object\n",
      "Type_of_Loan                 object\n",
      "Delay_from_due_date           int64\n",
      "Num_of_Delayed_Payment       object\n",
      "Changed_Credit_Limit         object\n",
      "Num_Credit_Inquiries        float64\n",
      "Credit_Mix                   object\n",
      "Outstanding_Debt             object\n",
      "Credit_Utilization_Ratio    float64\n",
      "Credit_History_Age           object\n",
      "Payment_of_Min_Amount        object\n",
      "Total_EMI_per_month         float64\n",
      "Amount_invested_monthly      object\n",
      "Payment_Behaviour            object\n",
      "Monthly_Balance              object\n",
      "Credit_Score                 object\n",
      "dtype: object\n"
     ]
    }
   ],
   "source": [
    "print(f'Data shape: {dataset.shape}\\n')\n",
    "print(f'Data features: \\n{dataset.dtypes}')"
   ]
  },
  {
   "cell_type": "markdown",
   "metadata": {},
   "source": [
    "#### Dropping irrelevent chosen columns"
   ]
  },
  {
   "cell_type": "code",
   "execution_count": 4,
   "metadata": {},
   "outputs": [],
   "source": [
    "dataset.drop(columns = ['ID','Customer_ID','Name','SSN','Type_of_Loan'], inplace = True)"
   ]
  },
  {
   "cell_type": "markdown",
   "metadata": {},
   "source": [
    "#### View unique values for each column"
   ]
  },
  {
   "cell_type": "code",
   "execution_count": 5,
   "metadata": {},
   "outputs": [
    {
     "name": "stdout",
     "output_type": "stream",
     "text": [
      "The unique values of 'Month' feature of type object: ['January', 'February', 'March', 'April', 'May', 'June', 'July', 'August']\n",
      "The unique values of 'Age' feature of type object: ['23', '-500', '28_', '28', '34', '54', '55', '21', '31', '33', '34_', '7580', '30', '30_', '24', '24_', '44', '45', '40', '41', '32', '33_', '35', '35_', '36']\n",
      "The unique values of 'Occupation' feature of type object: ['Scientist', '_______', 'Teacher', 'Engineer', 'Entrepreneur', 'Developer', 'Lawyer', 'Media_Manager', 'Doctor', 'Journalist', 'Manager', 'Accountant', 'Musician', 'Mechanic', 'Writer', 'Architect']\n",
      "The unique values of 'Annual_Income' feature of type object: ['19114.12', '34847.84', '34847.84_', '143162.64', '30689.89', '30689.89_', '35547.71_', '35547.71', '73928.46', '131313.4', '10909427.0', '34081.38_', '34081.38', '114838.41', '114838.41_', '31370.8', '33751.27', '88640.24', '88640.24_', '54392.16', '54392.16_', '8701.545', '8701.545_', '25546.26', '25546.26_']\n",
      "The unique values of 'Monthly_Inhand_Salary' feature of type float64: [1824.8433333333328, nan, 3037.986666666666, 12187.22, 2612.4908333333333, 2853.3091666666664, 5988.705000000001, 11242.783333333333, 10469.207759388815, 2611.115, 9843.8675, 2825.233333333333, 2948.605833333333, 7266.686666666667, 4766.68, 519.12875, 2415.855, 2942.148333333333, 7591.59, 2898.385, 8079.285, 7449.469346853578, 1512.361666666667, 1828.24, 1074.5845833333333]\n",
      "The unique values of 'Num_Bank_Accounts' feature of type int64: [3, 2, 1, 7, 4, 0, 8, 5, 6, 9, 10, 1414, 1231, 67, 572, 1488, 91, 528, 1647, 1696, 1338, 649, 889, 1668, 685]\n",
      "The unique values of 'Num_Credit_Card' feature of type int64: [4, 1385, 5, 1288, 1, 7, 6, 1029, 488, 8, 1381, 898, 3, 518, 1005, 9, 1327, 1189, 2, 10, 514, 943, 262, 809, 932]\n",
      "The unique values of 'Interest_Rate' feature of type int64: [3, 6, 8, 4, 5, 5318, 15, 7, 12, 20, 1, 433, 14, 32, 16, 17, 5240, 4975, 10, 31, 25, 18, 668, 19, 9]\n",
      "The unique values of 'Num_of_Loan' feature of type object: ['4', '1', '3', '967', '-100', '0', '0_', '2', '3_', '2_', '7', '5', '5_', '6', '8', '8_', '9', '9_', '4_', '7_', '1_', '1464', '6_', '622', '352']\n",
      "The unique values of 'Delay_from_due_date' feature of type int64: [3, -1, 5, 6, 8, 7, 13, 10, 0, 4, 9, 1, 12, 11, 30, 31, 34, 27, 14, 2, -2, 16, 17, 15, 23]\n",
      "The unique values of 'Num_of_Delayed_Payment' feature of type object: ['7', nan, '4', '8_', '6', '1', '-1', '3_', '0', '8', '5', '3', '9', '12', '15', '17', '10', '2', '2_', '11', '14', '20', '22', '13', '13_']\n",
      "The unique values of 'Changed_Credit_Limit' feature of type object: ['11.27', '_', '6.27', '9.27', '5.42', '7.42', '6.42', '7.1', '11.1', '9.1', '1.99', '-2.01', '-1.01', '-3.01', '2.58', '10.14', '9.14', '9.34', '15.34', '8.34', '11.34', '17.13', '21.13', '18.13', '8.24']\n",
      "The unique values of 'Num_Credit_Inquiries' feature of type float64: [4.0, 2.0, 3.0, nan, 5.0, 9.0, 8.0, 7.0, 6.0, 0.0, 1.0, 10.0, 1050.0, 11.0, 12.0, 1044.0, 17.0, 1936.0, 13.0, 568.0, 1618.0, 525.0, 14.0, 1251.0, 16.0]\n",
      "The unique values of 'Credit_Mix' feature of type object: ['_', 'Good', 'Standard', 'Bad']\n",
      "The unique values of 'Outstanding_Debt' feature of type object: ['809.98', '605.03', '1303.01', '632.46', '943.86', '548.2', '352.16', '1704.18', '1377.74', '421.43', '1328.93', '1328.93_', '950.36', '179.22', '2602.69', '758.44', '818.22', '1296.64', '1283.37', '1283.37_', '107.41', '2430.21', '881.4', '1672.43', '76.23']\n",
      "The unique values of 'Credit_Utilization_Ratio' feature of type float64: [26.822619623699016, 31.94496005538421, 28.60935202206993, 31.377861869582357, 24.797346908844982, 27.26225871052017, 22.53759303178384, 23.93379480196552, 24.46403063758457, 38.550848433956325, 33.22495078663659, 39.18265565546884, 34.97789474709241, 33.38101020065065, 31.131701611553307, 32.933856293622235, 28.616734823006844, 41.70257342393906, 26.519815391546494, 39.50164810812735, 31.37614957421204, 39.78399345802119, 38.068623627698585, 38.37475294778511, 26.54422872407309]\n",
      "The unique values of 'Credit_History_Age' feature of type object: ['22 Years and 1 Months', nan, '22 Years and 3 Months', '22 Years and 4 Months', '22 Years and 5 Months', '22 Years and 6 Months', '22 Years and 7 Months', '26 Years and 7 Months', '26 Years and 8 Months', '26 Years and 9 Months', '26 Years and 10 Months', '26 Years and 11 Months', '27 Years and 0 Months', '27 Years and 1 Months', '27 Years and 2 Months', '17 Years and 9 Months', '17 Years and 10 Months', '17 Years and 11 Months', '18 Years and 1 Months', '18 Years and 2 Months', '18 Years and 3 Months', '18 Years and 4 Months', '17 Years and 3 Months', '17 Years and 4 Months', '17 Years and 5 Months']\n",
      "The unique values of 'Payment_of_Min_Amount' feature of type object: ['No', 'NM', 'Yes']\n",
      "The unique values of 'Total_EMI_per_month' feature of type float64: [49.57494921489417, 18.816214573128885, 246.9923194537421, 16.415451659824875, 0.0, 15015.0, 15515.0, 137.6446054014217, 911.2201793459374, 23834.0, 32662.0, 70.47833267207261, 226.8927919215432, 46.61612907334207, 16415.0, 65.00817428651536, 135.17337097171767, 80357.0, 124.39208242092045, 36.54819717138717, 101.3286373638512, 45.14129822463578, 103.03756035536594, 629.8156531464217, 49.57206224445275]\n",
      "The unique values of 'Amount_invested_monthly' feature of type object: ['80.41529543900253', '118.28022162236736', '81.699521264648', '199.4580743910713', '41.420153086217326', '62.430172331195294', '178.3440674122349', '24.785216509052056', '104.291825168246', '40.39123782853101', '58.51597569589465', '99.30622796053305', '130.11542024292334', '43.477190144355745', '70.10177420755677', '218.90434353388733', '168.413702679309', '232.86038375993544', '__10000__', '825.2162699393922', '430.9475278803298', '257.80809942568976', '263.17416316163934', '81.22885871073616', '124.88181990234848']\n",
      "The unique values of 'Payment_Behaviour' feature of type object: ['High_spent_Small_value_payments', 'Low_spent_Large_value_payments', 'Low_spent_Medium_value_payments', 'Low_spent_Small_value_payments', 'High_spent_Medium_value_payments', '!@9#%8', 'High_spent_Large_value_payments']\n",
      "The unique values of 'Monthly_Balance' feature of type object: ['312.49408867943663', '284.62916249607184', '331.2098628537912', '223.45130972736786', '341.48923103222177', '340.4792117872438', '244.5653167062043', '358.12416760938714', '470.69062692529184', '484.5912142650067', '466.46647639764313', '465.6762241330048', '444.8670318506144', '481.505261949182', '464.8806778859809', '356.07810855965045', '1043.3159778669492', '998.8692967863226', '715.741367403555', '426.5134106068658', '810.7821526659284', '963.9215811205684', '968.5555173846187', '895.494583180492', '433.6047729627723']\n",
      "The unique values of 'Credit_Score' feature of type object: ['Good', 'Standard', 'Poor']\n"
     ]
    }
   ],
   "source": [
    "# Function to help in identifying the unique values of a feature and its type to help in feature engineering\n",
    "def unique_vals_and_type(data: pd.DataFrame, feature: str, cap: int):\n",
    "  print(f'The unique values of \\'{feature}\\' feature of type {data[feature].dtype}: {dataset[feature].unique().tolist()[0:cap]}')\n",
    "\n",
    "for feature in dataset.columns:\n",
    "  unique_vals_and_type(dataset, feature, 25)"
   ]
  },
  {
   "cell_type": "markdown",
   "metadata": {},
   "source": [
    "#### Transforming Features & Filtering Entries"
   ]
  },
  {
   "cell_type": "markdown",
   "metadata": {},
   "source": [
    "Helper Functions"
   ]
  },
  {
   "cell_type": "code",
   "execution_count": 6,
   "metadata": {},
   "outputs": [],
   "source": [
    "# Encode the Month feature to numerical values\n",
    "def encode_month(month):\n",
    "  calendar = {'January': 1, 'February': 2, 'March': 3, 'April': 4, 'May': 5, 'June': 6, 'July': 7, 'August': 8, 'September': 9, 'October': 10, 'November': 11, 'December': 12}\n",
    "  return calendar.get(month)\n",
    "\n",
    "# Removes special characters (underscores) from numeric data while ignoring nan values\n",
    "def remove_underscores_numeric(data: pd.DataFrame, feature: str, remove_neg: bool = False):\n",
    "  if data[feature].dtype != 'object': return\n",
    "  data[feature] = pd.to_numeric(data[feature].str.replace('_', ''), errors = 'coerce')\n",
    "  if remove_neg: data.loc[data[feature] < 0, feature] = np.nan\n",
    "\n",
    "# Counts outliers which are k standard deviations away from the mean\n",
    "def count_outliers(data: pd.DataFrame, feature: str, k: int):\n",
    "  m,s = data[feature].mean() , data[feature].std()\n",
    "  return np.sum((data[feature] < m - k*s) | (data[feature] > m + k*s))\n",
    "\n",
    "# Clips outliers which are k standard deviations away from the mean\n",
    "def clip_outliers(data: pd.DataFrame, feature: str, k: int):\n",
    "  m,s = data[feature].mean() , data[feature].std()\n",
    "  data[feature] = data[feature].clip(lower = m - k*s, upper = m + k*s)"
   ]
  },
  {
   "cell_type": "markdown",
   "metadata": {},
   "source": [
    "Convert numerical features from 'object' type to their orignal type and replacing missing data of each with NaN."
   ]
  },
  {
   "cell_type": "code",
   "execution_count": 7,
   "metadata": {},
   "outputs": [],
   "source": [
    "dataset['Month'] = dataset['Month'].apply(encode_month).astype(int)\n",
    "remove_underscores_numeric(dataset, 'Age', remove_neg = True)\n",
    "remove_underscores_numeric(dataset, 'Num_of_Loan', remove_neg = True)\n",
    "remove_underscores_numeric(dataset, 'Num_of_Delayed_Payment')\n",
    "dataset.loc[dataset['Num_Bank_Accounts'] < 0, 'Num_Bank_Accounts'] = np.nan\n",
    "dataset['Num_Credit_Inquiries'] = pd.to_numeric(dataset['Num_Credit_Inquiries'], errors = 'coerce')\n",
    "remove_underscores_numeric(dataset, 'Annual_Income')\n",
    "remove_underscores_numeric(dataset, 'Changed_Credit_Limit')\n",
    "remove_underscores_numeric(dataset, 'Outstanding_Debt')\n",
    "remove_underscores_numeric(dataset, 'Amount_invested_monthly')\n",
    "remove_underscores_numeric(dataset, 'Monthly_Balance')\n",
    "remove_underscores_numeric(dataset, 'Num_of_Delayed_Payment')"
   ]
  },
  {
   "cell_type": "markdown",
   "metadata": {},
   "source": [
    "Cleaning string data and converting them to encoded categorical variables. "
   ]
  },
  {
   "cell_type": "code",
   "execution_count": null,
   "metadata": {},
   "outputs": [],
   "source": [
    "dataset['Occupation'] = dataset['Occupation'].replace(to_replace = '_______', value = np.nan)\n",
    "dataset['Credit_Mix'] = dataset['Credit_Mix'].replace(to_replace = '_', value = np.nan)\n",
    "# Replace the Credit History Age column with years and months.\n",
    "temp_df = dataset['Credit_History_Age'].str.extract(r'(?P<Years>[\\d]?[\\d]) Years and (?P<Months>[\\d]?[\\d]) Months', expand = True)\n",
    "dataset['Credit_History_Age'] = temp_df['Years'].astype('Int64') + (temp_df['Months'].astype('Int64') / 12)\n",
    "dataset['Payment_of_Min_Amount'] = dataset['Payment_of_Min_Amount'].replace(to_replace = 'NM', value = np.nan)\n",
    "dataset['Payment_Behaviour'] = dataset['Payment_Behaviour'].replace(to_replace = '!@9#%8', value = np.nan)"
   ]
  },
  {
   "cell_type": "code",
   "execution_count": null,
   "metadata": {},
   "outputs": [],
   "source": [
    "# Encoding categorical variables\n",
    "occupation_encoder = OrdinalEncoder()\n",
    "dataset['Occupation'] = occupation_encoder.fit_transform(dataset['Occupation'].values.reshape(-1,1))"
   ]
  },
  {
   "cell_type": "markdown",
   "metadata": {},
   "source": [
    "Describe the dataset to see summaries of each feature."
   ]
  },
  {
   "cell_type": "code",
   "execution_count": null,
   "metadata": {},
   "outputs": [],
   "source": [
    "dataset.describe()"
   ]
  },
  {
   "cell_type": "markdown",
   "metadata": {},
   "source": [
    "Dealing with missing values and outliers"
   ]
  },
  {
   "cell_type": "code",
   "execution_count": null,
   "metadata": {},
   "outputs": [],
   "source": [
    "# Count outliers and NA values for each numerical feature and store results in a dataframe\n",
    "features, outliers, percent_outliers, nas, percent_nas = [],[],[],[],[]\n",
    "\n",
    "for f in dataset.columns:\n",
    "  features.append(f)\n",
    "  if (dataset[f].dtype != 'object'):\n",
    "    outliers.append(count_outliers(dataset, f, 3))\n",
    "    percent_outliers.append(outliers[-1]/dataset.shape[0] * 100)\n",
    "  else:\n",
    "    outliers.append(np.nan)\n",
    "    percent_outliers.append(np.nan)\n",
    "  nas.append(dataset[f].isna().sum())\n",
    "  percent_nas.append(nas[-1]/dataset.shape[0] * 100)\n",
    "\n",
    "pd.DataFrame({'Feature': features, 'Outliers': outliers, 'Outlier%': percent_outliers, 'NA': nas, 'NA%': percent_nas})"
   ]
  },
  {
   "cell_type": "markdown",
   "metadata": {},
   "source": [
    "All outliers seem to be within the 5% range of the whole dataset, so we will leave them as they might belong to the original distribution. On the other hand, NA values will cause problems, and will incur a noticable loss of information if we just delete the rows or columns which have NA values, so we will use data imputation by iterative multivariate imputation."
   ]
  },
  {
   "cell_type": "code",
   "execution_count": null,
   "metadata": {},
   "outputs": [],
   "source": [
    "imputer = IterativeImputer(max_iter = 10, random_state = 42)\n",
    "imputed_data = imputer.fit_transform(dataset)\n",
    "dataset = pd.DataFrame(imputed_data, columns = dataset.columns)"
   ]
  }
 ],
 "metadata": {
  "kernelspec": {
   "display_name": "Python 3",
   "language": "python",
   "name": "python3"
  },
  "language_info": {
   "codemirror_mode": {
    "name": "ipython",
    "version": 3
   },
   "file_extension": ".py",
   "mimetype": "text/x-python",
   "name": "python",
   "nbconvert_exporter": "python",
   "pygments_lexer": "ipython3",
   "version": "3.11.5"
  }
 },
 "nbformat": 4,
 "nbformat_minor": 2
}
